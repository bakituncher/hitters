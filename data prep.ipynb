{
 "cells": [
  {
   "cell_type": "code",
   "execution_count": 167,
   "id": "1819abdb-bdd6-4a54-a7e7-f8cfceb4db63",
   "metadata": {},
   "outputs": [],
   "source": [
    "import numpy as np\n",
    "import pandas as pd\n",
    "import matplotlib.pyplot as plt\n",
    "import seaborn as sns\n",
    "\n",
    "pd.set_option(\"display.float_format\", lambda x: \"%.2f\" % x)\n",
    "from sklearn.preprocessing import LabelEncoder\n",
    "from sklearn.linear_model import LinearRegression\n",
    "from sklearn.metrics import mean_squared_error,mean_absolute_error\n",
    "from sklearn.model_selection import train_test_split, cross_val_score"
   ]
  },
  {
   "cell_type": "code",
   "execution_count": 168,
   "id": "161c37e2-2bed-4a09-b51f-ba145f8d9c48",
   "metadata": {},
   "outputs": [],
   "source": [
    "df = pd.read_csv(\"hitters.csv\")"
   ]
  },
  {
   "cell_type": "code",
   "execution_count": 169,
   "id": "ca54e87d-bfff-499f-86ab-71b05181b81d",
   "metadata": {},
   "outputs": [
    {
     "data": {
      "text/html": [
       "<div>\n",
       "<style scoped>\n",
       "    .dataframe tbody tr th:only-of-type {\n",
       "        vertical-align: middle;\n",
       "    }\n",
       "\n",
       "    .dataframe tbody tr th {\n",
       "        vertical-align: top;\n",
       "    }\n",
       "\n",
       "    .dataframe thead th {\n",
       "        text-align: right;\n",
       "    }\n",
       "</style>\n",
       "<table border=\"1\" class=\"dataframe\">\n",
       "  <thead>\n",
       "    <tr style=\"text-align: right;\">\n",
       "      <th></th>\n",
       "      <th>AtBat</th>\n",
       "      <th>Hits</th>\n",
       "      <th>HmRun</th>\n",
       "      <th>Runs</th>\n",
       "      <th>RBI</th>\n",
       "      <th>Walks</th>\n",
       "      <th>Years</th>\n",
       "      <th>CAtBat</th>\n",
       "      <th>CHits</th>\n",
       "      <th>CHmRun</th>\n",
       "      <th>CRuns</th>\n",
       "      <th>CRBI</th>\n",
       "      <th>CWalks</th>\n",
       "      <th>League</th>\n",
       "      <th>Division</th>\n",
       "      <th>PutOuts</th>\n",
       "      <th>Assists</th>\n",
       "      <th>Errors</th>\n",
       "      <th>Salary</th>\n",
       "      <th>NewLeague</th>\n",
       "    </tr>\n",
       "  </thead>\n",
       "  <tbody>\n",
       "    <tr>\n",
       "      <th>0</th>\n",
       "      <td>293</td>\n",
       "      <td>66</td>\n",
       "      <td>1</td>\n",
       "      <td>30</td>\n",
       "      <td>29</td>\n",
       "      <td>14</td>\n",
       "      <td>1</td>\n",
       "      <td>293</td>\n",
       "      <td>66</td>\n",
       "      <td>1</td>\n",
       "      <td>30</td>\n",
       "      <td>29</td>\n",
       "      <td>14</td>\n",
       "      <td>A</td>\n",
       "      <td>E</td>\n",
       "      <td>446</td>\n",
       "      <td>33</td>\n",
       "      <td>20</td>\n",
       "      <td>NaN</td>\n",
       "      <td>A</td>\n",
       "    </tr>\n",
       "    <tr>\n",
       "      <th>1</th>\n",
       "      <td>315</td>\n",
       "      <td>81</td>\n",
       "      <td>7</td>\n",
       "      <td>24</td>\n",
       "      <td>38</td>\n",
       "      <td>39</td>\n",
       "      <td>14</td>\n",
       "      <td>3449</td>\n",
       "      <td>835</td>\n",
       "      <td>69</td>\n",
       "      <td>321</td>\n",
       "      <td>414</td>\n",
       "      <td>375</td>\n",
       "      <td>N</td>\n",
       "      <td>W</td>\n",
       "      <td>632</td>\n",
       "      <td>43</td>\n",
       "      <td>10</td>\n",
       "      <td>475.00</td>\n",
       "      <td>N</td>\n",
       "    </tr>\n",
       "    <tr>\n",
       "      <th>2</th>\n",
       "      <td>479</td>\n",
       "      <td>130</td>\n",
       "      <td>18</td>\n",
       "      <td>66</td>\n",
       "      <td>72</td>\n",
       "      <td>76</td>\n",
       "      <td>3</td>\n",
       "      <td>1624</td>\n",
       "      <td>457</td>\n",
       "      <td>63</td>\n",
       "      <td>224</td>\n",
       "      <td>266</td>\n",
       "      <td>263</td>\n",
       "      <td>A</td>\n",
       "      <td>W</td>\n",
       "      <td>880</td>\n",
       "      <td>82</td>\n",
       "      <td>14</td>\n",
       "      <td>480.00</td>\n",
       "      <td>A</td>\n",
       "    </tr>\n",
       "    <tr>\n",
       "      <th>3</th>\n",
       "      <td>496</td>\n",
       "      <td>141</td>\n",
       "      <td>20</td>\n",
       "      <td>65</td>\n",
       "      <td>78</td>\n",
       "      <td>37</td>\n",
       "      <td>11</td>\n",
       "      <td>5628</td>\n",
       "      <td>1575</td>\n",
       "      <td>225</td>\n",
       "      <td>828</td>\n",
       "      <td>838</td>\n",
       "      <td>354</td>\n",
       "      <td>N</td>\n",
       "      <td>E</td>\n",
       "      <td>200</td>\n",
       "      <td>11</td>\n",
       "      <td>3</td>\n",
       "      <td>500.00</td>\n",
       "      <td>N</td>\n",
       "    </tr>\n",
       "    <tr>\n",
       "      <th>4</th>\n",
       "      <td>321</td>\n",
       "      <td>87</td>\n",
       "      <td>10</td>\n",
       "      <td>39</td>\n",
       "      <td>42</td>\n",
       "      <td>30</td>\n",
       "      <td>2</td>\n",
       "      <td>396</td>\n",
       "      <td>101</td>\n",
       "      <td>12</td>\n",
       "      <td>48</td>\n",
       "      <td>46</td>\n",
       "      <td>33</td>\n",
       "      <td>N</td>\n",
       "      <td>E</td>\n",
       "      <td>805</td>\n",
       "      <td>40</td>\n",
       "      <td>4</td>\n",
       "      <td>91.50</td>\n",
       "      <td>N</td>\n",
       "    </tr>\n",
       "  </tbody>\n",
       "</table>\n",
       "</div>"
      ],
      "text/plain": [
       "   AtBat  Hits  HmRun  Runs  RBI  Walks  Years  CAtBat  CHits  CHmRun  CRuns  \\\n",
       "0    293    66      1    30   29     14      1     293     66       1     30   \n",
       "1    315    81      7    24   38     39     14    3449    835      69    321   \n",
       "2    479   130     18    66   72     76      3    1624    457      63    224   \n",
       "3    496   141     20    65   78     37     11    5628   1575     225    828   \n",
       "4    321    87     10    39   42     30      2     396    101      12     48   \n",
       "\n",
       "   CRBI  CWalks League Division  PutOuts  Assists  Errors  Salary NewLeague  \n",
       "0    29      14      A        E      446       33      20     NaN         A  \n",
       "1   414     375      N        W      632       43      10  475.00         N  \n",
       "2   266     263      A        W      880       82      14  480.00         A  \n",
       "3   838     354      N        E      200       11       3  500.00         N  \n",
       "4    46      33      N        E      805       40       4   91.50         N  "
      ]
     },
     "execution_count": 169,
     "metadata": {},
     "output_type": "execute_result"
    }
   ],
   "source": [
    "df.head()"
   ]
  },
  {
   "cell_type": "code",
   "execution_count": 170,
   "id": "9adf290c-af6b-4e35-aecd-fdb756cbf33a",
   "metadata": {},
   "outputs": [
    {
     "name": "stdout",
     "output_type": "stream",
     "text": [
      "<class 'pandas.core.frame.DataFrame'>\n",
      "RangeIndex: 322 entries, 0 to 321\n",
      "Data columns (total 20 columns):\n",
      " #   Column     Non-Null Count  Dtype  \n",
      "---  ------     --------------  -----  \n",
      " 0   AtBat      322 non-null    int64  \n",
      " 1   Hits       322 non-null    int64  \n",
      " 2   HmRun      322 non-null    int64  \n",
      " 3   Runs       322 non-null    int64  \n",
      " 4   RBI        322 non-null    int64  \n",
      " 5   Walks      322 non-null    int64  \n",
      " 6   Years      322 non-null    int64  \n",
      " 7   CAtBat     322 non-null    int64  \n",
      " 8   CHits      322 non-null    int64  \n",
      " 9   CHmRun     322 non-null    int64  \n",
      " 10  CRuns      322 non-null    int64  \n",
      " 11  CRBI       322 non-null    int64  \n",
      " 12  CWalks     322 non-null    int64  \n",
      " 13  League     322 non-null    object \n",
      " 14  Division   322 non-null    object \n",
      " 15  PutOuts    322 non-null    int64  \n",
      " 16  Assists    322 non-null    int64  \n",
      " 17  Errors     322 non-null    int64  \n",
      " 18  Salary     263 non-null    float64\n",
      " 19  NewLeague  322 non-null    object \n",
      "dtypes: float64(1), int64(16), object(3)\n",
      "memory usage: 50.4+ KB\n"
     ]
    }
   ],
   "source": [
    "df.info()"
   ]
  },
  {
   "cell_type": "code",
   "execution_count": 171,
   "id": "e554fd2b-f3dd-4a58-b59e-39bb21608f10",
   "metadata": {},
   "outputs": [
    {
     "name": "stdout",
     "output_type": "stream",
     "text": [
      "##################### Shape #####################\n",
      "(322, 20)\n",
      "##################### Types #####################\n",
      "AtBat          int64\n",
      "Hits           int64\n",
      "HmRun          int64\n",
      "Runs           int64\n",
      "RBI            int64\n",
      "Walks          int64\n",
      "Years          int64\n",
      "CAtBat         int64\n",
      "CHits          int64\n",
      "CHmRun         int64\n",
      "CRuns          int64\n",
      "CRBI           int64\n",
      "CWalks         int64\n",
      "League        object\n",
      "Division      object\n",
      "PutOuts        int64\n",
      "Assists        int64\n",
      "Errors         int64\n",
      "Salary       float64\n",
      "NewLeague     object\n",
      "dtype: object\n",
      "##################### Head #####################\n",
      "   AtBat  Hits  HmRun  Runs  RBI  Walks  Years  CAtBat  CHits  CHmRun  CRuns  \\\n",
      "0    293    66      1    30   29     14      1     293     66       1     30   \n",
      "1    315    81      7    24   38     39     14    3449    835      69    321   \n",
      "2    479   130     18    66   72     76      3    1624    457      63    224   \n",
      "\n",
      "   CRBI  CWalks League Division  PutOuts  Assists  Errors  Salary NewLeague  \n",
      "0    29      14      A        E      446       33      20     NaN         A  \n",
      "1   414     375      N        W      632       43      10  475.00         N  \n",
      "2   266     263      A        W      880       82      14  480.00         A  \n",
      "##################### Tail #####################\n",
      "     AtBat  Hits  HmRun  Runs  RBI  Walks  Years  CAtBat  CHits  CHmRun  \\\n",
      "319    475   126      3    61   43     52      6    1700    433       7   \n",
      "320    573   144      9    85   60     78      8    3198    857      97   \n",
      "321    631   170      9    77   44     31     11    4908   1457      30   \n",
      "\n",
      "     CRuns  CRBI  CWalks League Division  PutOuts  Assists  Errors  Salary  \\\n",
      "319    217    93     146      A        W       37      113       7  385.00   \n",
      "320    470   420     332      A        E     1314      131      12  960.00   \n",
      "321    775   357     249      A        W      408        4       3 1000.00   \n",
      "\n",
      "    NewLeague  \n",
      "319         A  \n",
      "320         A  \n",
      "321         A  \n",
      "##################### NA #####################\n",
      "AtBat         0\n",
      "Hits          0\n",
      "HmRun         0\n",
      "Runs          0\n",
      "RBI           0\n",
      "Walks         0\n",
      "Years         0\n",
      "CAtBat        0\n",
      "CHits         0\n",
      "CHmRun        0\n",
      "CRuns         0\n",
      "CRBI          0\n",
      "CWalks        0\n",
      "League        0\n",
      "Division      0\n",
      "PutOuts       0\n",
      "Assists       0\n",
      "Errors        0\n",
      "Salary       59\n",
      "NewLeague     0\n",
      "dtype: int64\n"
     ]
    }
   ],
   "source": [
    "def check_df(dataframe):\n",
    "    print(\"##################### Shape #####################\")\n",
    "    print(dataframe.shape)\n",
    "    print(\"##################### Types #####################\")\n",
    "    print(dataframe.dtypes)\n",
    "    print(\"##################### Head #####################\")\n",
    "    print(dataframe.head(3))\n",
    "    print(\"##################### Tail #####################\")\n",
    "    print(dataframe.tail(3))\n",
    "    print(\"##################### NA #####################\")\n",
    "    print(dataframe.isnull().sum())\n",
    "\n",
    "check_df(df)"
   ]
  },
  {
   "cell_type": "code",
   "execution_count": 172,
   "id": "7cf31059-8edb-4145-bca2-56261ccb7dee",
   "metadata": {},
   "outputs": [
    {
     "data": {
      "text/plain": [
       "Index(['AtBat', 'Hits', 'HmRun', 'Runs', 'RBI', 'Walks', 'Years', 'CAtBat',\n",
       "       'CHits', 'CHmRun', 'CRuns', 'CRBI', 'CWalks', 'League', 'Division',\n",
       "       'PutOuts', 'Assists', 'Errors', 'Salary', 'NewLeague'],\n",
       "      dtype='object')"
      ]
     },
     "execution_count": 172,
     "metadata": {},
     "output_type": "execute_result"
    }
   ],
   "source": [
    "df.columns"
   ]
  },
  {
   "cell_type": "code",
   "execution_count": 173,
   "id": "3e7dfae7-6b8b-42e4-9a7f-79af595debc3",
   "metadata": {},
   "outputs": [
    {
     "name": "stdout",
     "output_type": "stream",
     "text": [
      "Observations: 322\n",
      "Variables: 20\n",
      "cat_cols: 3\n",
      "num_cols: 17\n",
      "cat_but_car: 0\n",
      "num_but_cat: 0\n"
     ]
    }
   ],
   "source": [
    "def grab_col_names(dataframe, cat_th=10, car_th=20):\n",
    "    \"\"\"\n",
    "    grab_col_names for given dataframe\n",
    "\n",
    "    :param dataframe:\n",
    "    :param cat_th:\n",
    "    :param car_th:\n",
    "    :return:\n",
    "    \"\"\"\n",
    "\n",
    "    cat_cols = [col for col in dataframe.columns if dataframe[col].dtypes == \"O\"]\n",
    "\n",
    "    num_but_cat = [col for col in dataframe.columns if dataframe[col].nunique() < cat_th and\n",
    "                   dataframe[col].dtypes != \"O\"]\n",
    "\n",
    "    cat_but_car = [col for col in dataframe.columns if dataframe[col].nunique() > car_th and\n",
    "                   dataframe[col].dtypes == \"O\"]\n",
    "\n",
    "    cat_cols = cat_cols + num_but_cat\n",
    "    cat_cols = [col for col in cat_cols if col not in cat_but_car]\n",
    "\n",
    "    num_cols = [col for col in dataframe.columns if dataframe[col].dtypes != \"O\"]\n",
    "    num_cols = [col for col in num_cols if col not in num_but_cat]\n",
    "\n",
    "    print(f\"Observations: {dataframe.shape[0]}\")\n",
    "    print(f\"Variables: {dataframe.shape[1]}\")\n",
    "    print(f'cat_cols: {len(cat_cols)}')\n",
    "    print(f'num_cols: {len(num_cols)}')\n",
    "    print(f'cat_but_car: {len(cat_but_car)}')\n",
    "    print(f'num_but_cat: {len(num_but_cat)}')\n",
    "\n",
    "    # cat_cols + num_cols + cat_but_car = değişken sayısı.\n",
    "    # num_but_cat cat_cols'un içerisinde zaten.\n",
    "    # dolayısıyla tüm şu 3 liste ile tüm değişkenler seçilmiş olacaktır: cat_cols + num_cols + cat_but_car\n",
    "    # num_but_cat sadece raporlama için verilmiştir.\n",
    "\n",
    "    return cat_cols, cat_but_car, num_cols, num_but_cat\n",
    "\n",
    "cat_cols, cat_but_car, num_cols, num_but_cat = grab_col_names(df)"
   ]
  },
  {
   "cell_type": "code",
   "execution_count": 174,
   "id": "403b99a2-8034-4f1a-aeb6-990a99336925",
   "metadata": {},
   "outputs": [
    {
     "data": {
      "text/plain": [
       "(322, 20)"
      ]
     },
     "execution_count": 174,
     "metadata": {},
     "output_type": "execute_result"
    }
   ],
   "source": [
    "df.shape"
   ]
  },
  {
   "cell_type": "markdown",
   "id": "fdd3ad5e-c2bf-4750-bf98-d79ce8e39ce6",
   "metadata": {},
   "source": [
    "Veri Temizleme"
   ]
  },
  {
   "cell_type": "code",
   "execution_count": 175,
   "id": "fdaf05ba-71ed-4e0c-892c-4557c0e080a0",
   "metadata": {},
   "outputs": [
    {
     "name": "stdout",
     "output_type": "stream",
     "text": [
      "AtBat False\n",
      "Hits False\n",
      "HmRun False\n",
      "Runs False\n",
      "RBI False\n",
      "Walks False\n",
      "Years False\n",
      "CAtBat False\n",
      "CHits True\n",
      "CHmRun True\n",
      "CRuns False\n",
      "CRBI False\n",
      "CWalks True\n",
      "PutOuts False\n",
      "Assists False\n",
      "Errors False\n"
     ]
    }
   ],
   "source": [
    "def outlier_thresholds(dataframe, variable, low_quantile=0.10, up_quantile=0.90):\n",
    "    quantile_one = dataframe[variable].quantile(low_quantile)\n",
    "    quantile_three = dataframe[variable].quantile(up_quantile)\n",
    "    interquantile_range = quantile_three - quantile_one\n",
    "    up_limit = quantile_three + 1.5 * interquantile_range\n",
    "    low_limit = quantile_one - 1.5 * interquantile_range\n",
    "    return low_limit, up_limit\n",
    "\n",
    "# Aykırı değer kontrolü\n",
    "def check_outlier(dataframe, col_name):\n",
    "    low_limit, up_limit = outlier_thresholds(dataframe, col_name)\n",
    "    if dataframe[(dataframe[col_name] > up_limit) | (dataframe[col_name] < low_limit)].any(axis=None):\n",
    "        return True\n",
    "    else:\n",
    "        return False\n",
    "\n",
    "\n",
    "for col in num_cols:\n",
    "    if col != \"Salary\":\n",
    "      print(col, check_outlier(df, col))"
   ]
  },
  {
   "cell_type": "code",
   "execution_count": 176,
   "id": "ca2e463c-17e6-4e32-a067-2a7631445792",
   "metadata": {
    "scrolled": true
   },
   "outputs": [
    {
     "name": "stdout",
     "output_type": "stream",
     "text": [
      "<class 'pandas.core.frame.DataFrame'>\n",
      "RangeIndex: 322 entries, 0 to 321\n",
      "Data columns (total 20 columns):\n",
      " #   Column     Non-Null Count  Dtype  \n",
      "---  ------     --------------  -----  \n",
      " 0   AtBat      322 non-null    int64  \n",
      " 1   Hits       322 non-null    int64  \n",
      " 2   HmRun      322 non-null    int64  \n",
      " 3   Runs       322 non-null    int64  \n",
      " 4   RBI        322 non-null    int64  \n",
      " 5   Walks      322 non-null    int64  \n",
      " 6   Years      322 non-null    int64  \n",
      " 7   CAtBat     322 non-null    int64  \n",
      " 8   CHits      322 non-null    int64  \n",
      " 9   CHmRun     322 non-null    int64  \n",
      " 10  CRuns      322 non-null    int64  \n",
      " 11  CRBI       322 non-null    int64  \n",
      " 12  CWalks     322 non-null    int64  \n",
      " 13  League     322 non-null    object \n",
      " 14  Division   322 non-null    object \n",
      " 15  PutOuts    322 non-null    int64  \n",
      " 16  Assists    322 non-null    int64  \n",
      " 17  Errors     322 non-null    int64  \n",
      " 18  Salary     263 non-null    float64\n",
      " 19  NewLeague  322 non-null    object \n",
      "dtypes: float64(1), int64(16), object(3)\n",
      "memory usage: 50.4+ KB\n"
     ]
    }
   ],
   "source": [
    "df.info()"
   ]
  },
  {
   "cell_type": "code",
   "execution_count": 177,
   "id": "67843d79-82ab-4663-8a51-e000096e8221",
   "metadata": {},
   "outputs": [],
   "source": [
    "int_cols = df.select_dtypes(include=\"int64\").columns\n",
    "df[int_cols] = df[int_cols].astype(float)"
   ]
  },
  {
   "cell_type": "code",
   "execution_count": 178,
   "id": "bbd06c5d-ee1b-47c4-a7e6-bca9ffaf38d2",
   "metadata": {},
   "outputs": [
    {
     "name": "stdout",
     "output_type": "stream",
     "text": [
      "<class 'pandas.core.frame.DataFrame'>\n",
      "RangeIndex: 322 entries, 0 to 321\n",
      "Data columns (total 20 columns):\n",
      " #   Column     Non-Null Count  Dtype  \n",
      "---  ------     --------------  -----  \n",
      " 0   AtBat      322 non-null    float64\n",
      " 1   Hits       322 non-null    float64\n",
      " 2   HmRun      322 non-null    float64\n",
      " 3   Runs       322 non-null    float64\n",
      " 4   RBI        322 non-null    float64\n",
      " 5   Walks      322 non-null    float64\n",
      " 6   Years      322 non-null    float64\n",
      " 7   CAtBat     322 non-null    float64\n",
      " 8   CHits      322 non-null    float64\n",
      " 9   CHmRun     322 non-null    float64\n",
      " 10  CRuns      322 non-null    float64\n",
      " 11  CRBI       322 non-null    float64\n",
      " 12  CWalks     322 non-null    float64\n",
      " 13  League     322 non-null    object \n",
      " 14  Division   322 non-null    object \n",
      " 15  PutOuts    322 non-null    float64\n",
      " 16  Assists    322 non-null    float64\n",
      " 17  Errors     322 non-null    float64\n",
      " 18  Salary     263 non-null    float64\n",
      " 19  NewLeague  322 non-null    object \n",
      "dtypes: float64(17), object(3)\n",
      "memory usage: 50.4+ KB\n"
     ]
    }
   ],
   "source": [
    "df.info()"
   ]
  },
  {
   "cell_type": "code",
   "execution_count": 179,
   "id": "3a6774cb-b0a8-4506-879e-2f3547440e6d",
   "metadata": {},
   "outputs": [],
   "source": [
    "def replace_with_thresholds(dataframe, variable):\n",
    "    low_limit, up_limit = outlier_thresholds(dataframe, variable)\n",
    "    dataframe.loc[(dataframe[variable] < low_limit), variable] = low_limit\n",
    "    dataframe.loc[(dataframe[variable] > up_limit), variable] = up_limit\n",
    "\n",
    "\n",
    "for col in num_cols:\n",
    "    if col != \"Salary\":\n",
    "        replace_with_thresholds(df,col)\n"
   ]
  },
  {
   "cell_type": "code",
   "execution_count": 180,
   "id": "ae1589af-180c-4e1e-af8a-09a30fa97514",
   "metadata": {},
   "outputs": [
    {
     "name": "stdout",
     "output_type": "stream",
     "text": [
      "AtBat False\n",
      "Hits False\n",
      "HmRun False\n",
      "Runs False\n",
      "RBI False\n",
      "Walks False\n",
      "Years False\n",
      "CAtBat False\n",
      "CHits False\n",
      "CHmRun False\n",
      "CRuns False\n",
      "CRBI False\n",
      "CWalks False\n",
      "PutOuts False\n",
      "Assists False\n",
      "Errors False\n"
     ]
    }
   ],
   "source": [
    "for col in num_cols:\n",
    "    if col != \"Salary\":\n",
    "      print(col, check_outlier(df, col))"
   ]
  },
  {
   "cell_type": "code",
   "execution_count": 181,
   "id": "2f11f75e-3694-4305-a9fa-a1a37ff1e424",
   "metadata": {},
   "outputs": [
    {
     "name": "stdout",
     "output_type": "stream",
     "text": [
      "<class 'pandas.core.frame.DataFrame'>\n",
      "RangeIndex: 322 entries, 0 to 321\n",
      "Data columns (total 20 columns):\n",
      " #   Column     Non-Null Count  Dtype  \n",
      "---  ------     --------------  -----  \n",
      " 0   AtBat      322 non-null    float64\n",
      " 1   Hits       322 non-null    float64\n",
      " 2   HmRun      322 non-null    float64\n",
      " 3   Runs       322 non-null    float64\n",
      " 4   RBI        322 non-null    float64\n",
      " 5   Walks      322 non-null    float64\n",
      " 6   Years      322 non-null    float64\n",
      " 7   CAtBat     322 non-null    float64\n",
      " 8   CHits      322 non-null    float64\n",
      " 9   CHmRun     322 non-null    float64\n",
      " 10  CRuns      322 non-null    float64\n",
      " 11  CRBI       322 non-null    float64\n",
      " 12  CWalks     322 non-null    float64\n",
      " 13  League     322 non-null    object \n",
      " 14  Division   322 non-null    object \n",
      " 15  PutOuts    322 non-null    float64\n",
      " 16  Assists    322 non-null    float64\n",
      " 17  Errors     322 non-null    float64\n",
      " 18  Salary     263 non-null    float64\n",
      " 19  NewLeague  322 non-null    object \n",
      "dtypes: float64(17), object(3)\n",
      "memory usage: 50.4+ KB\n"
     ]
    }
   ],
   "source": [
    "df.info()"
   ]
  },
  {
   "cell_type": "code",
   "execution_count": 182,
   "id": "8d5ab1bb-2658-407e-90e8-cafc950d7b93",
   "metadata": {},
   "outputs": [
    {
     "name": "stdout",
     "output_type": "stream",
     "text": [
      "        n_miss  ratio\n",
      "Salary      59  18.32\n"
     ]
    }
   ],
   "source": [
    "def missing_values_table(dataframe, na_name=False):\n",
    "    na_columns = [col for col in dataframe.columns if dataframe[col].isnull().sum() > 0]\n",
    "\n",
    "    n_miss = dataframe[na_columns].isnull().sum().sort_values(ascending=False)\n",
    "\n",
    "    ratio = (dataframe[na_columns].isnull().sum() / dataframe.shape[0] * 100).sort_values(ascending=False)\n",
    "\n",
    "    missing_df = pd.concat([n_miss, np.round(ratio, 2)], axis=1, keys=['n_miss', 'ratio'])\n",
    "\n",
    "    print(missing_df, end=\"\\n\")\n",
    "\n",
    "    if na_name:\n",
    "        return na_columns\n",
    "\n",
    "missing_values_table(df)\n"
   ]
  },
  {
   "cell_type": "code",
   "execution_count": 183,
   "id": "c5dca25c-c476-4558-be47-4a70ede35c8d",
   "metadata": {
    "scrolled": true
   },
   "outputs": [
    {
     "name": "stdout",
     "output_type": "stream",
     "text": [
      "<class 'pandas.core.frame.DataFrame'>\n",
      "RangeIndex: 322 entries, 0 to 321\n",
      "Data columns (total 20 columns):\n",
      " #   Column     Non-Null Count  Dtype  \n",
      "---  ------     --------------  -----  \n",
      " 0   AtBat      322 non-null    float64\n",
      " 1   Hits       322 non-null    float64\n",
      " 2   HmRun      322 non-null    float64\n",
      " 3   Runs       322 non-null    float64\n",
      " 4   RBI        322 non-null    float64\n",
      " 5   Walks      322 non-null    float64\n",
      " 6   Years      322 non-null    float64\n",
      " 7   CAtBat     322 non-null    float64\n",
      " 8   CHits      322 non-null    float64\n",
      " 9   CHmRun     322 non-null    float64\n",
      " 10  CRuns      322 non-null    float64\n",
      " 11  CRBI       322 non-null    float64\n",
      " 12  CWalks     322 non-null    float64\n",
      " 13  League     322 non-null    object \n",
      " 14  Division   322 non-null    object \n",
      " 15  PutOuts    322 non-null    float64\n",
      " 16  Assists    322 non-null    float64\n",
      " 17  Errors     322 non-null    float64\n",
      " 18  Salary     263 non-null    float64\n",
      " 19  NewLeague  322 non-null    object \n",
      "dtypes: float64(17), object(3)\n",
      "memory usage: 50.4+ KB\n"
     ]
    }
   ],
   "source": [
    "df.info()"
   ]
  },
  {
   "cell_type": "code",
   "execution_count": 184,
   "id": "15a56f64-4d53-4762-9110-bd7199969196",
   "metadata": {},
   "outputs": [
    {
     "name": "stdout",
     "output_type": "stream",
     "text": [
      "R2 Score: 0.4646\n",
      "RMSE: 311.1751\n",
      "\n",
      "Eksik Salary değerleri başarıyla tahmin edilip DataFrame'e yazıldı.\n"
     ]
    },
    {
     "name": "stderr",
     "output_type": "stream",
     "text": [
      "C:\\Users\\tunce\\anaconda3\\Lib\\site-packages\\sklearn\\metrics\\_regression.py:492: FutureWarning: 'squared' is deprecated in version 1.4 and will be removed in 1.6. To calculate the root mean squared error, use the function'root_mean_squared_error'.\n",
      "  warnings.warn(\n"
     ]
    }
   ],
   "source": [
    "df_salary = df[df['Salary'].notnull()].copy()\n",
    "\n",
    "# Özellikler ve hedef\n",
    "X = df_salary.drop(columns=['Salary'])\n",
    "y = df_salary['Salary']\n",
    "\n",
    "# Kategorik ve sayısal sütunlar\n",
    "cat_cols = ['League', 'Division', 'NewLeague']\n",
    "num_cols = [col for col in X.columns if col not in cat_cols]\n",
    "\n",
    "# Eğitim/test böl\n",
    "X_train, X_test, y_train, y_test = train_test_split(X, y, test_size=0.2, random_state=42)\n",
    "\n",
    "# Pipeline oluştur\n",
    "preprocessor = ColumnTransformer([\n",
    "    ('num', StandardScaler(), num_cols),\n",
    "    ('cat', OneHotEncoder(handle_unknown='ignore'), cat_cols)\n",
    "])\n",
    "\n",
    "model = Pipeline([\n",
    "    ('preprocessor', preprocessor),\n",
    "    ('regressor', RandomForestRegressor(n_estimators=100, random_state=42))\n",
    "])\n",
    "\n",
    "# Eğit\n",
    "model.fit(X_train, y_train)\n",
    "\n",
    "# Performans kontrol\n",
    "y_pred = model.predict(X_test)\n",
    "print(f\"R2 Score: {r2_score(y_test, y_pred):.4f}\")\n",
    "print(f\"RMSE: {mean_squared_error(y_test, y_pred, squared=False):.4f}\")\n",
    "\n",
    "# Eksik Salary olan satırları seç\n",
    "df_missing_salary = df[df['Salary'].isnull()].copy()\n",
    "\n",
    "if not df_missing_salary.empty:\n",
    "    # Tahmin için özellikleri al\n",
    "    X_missing = df_missing_salary.drop(columns=['Salary'])\n",
    "    # Tahmin yap\n",
    "    predicted_salaries = model.predict(X_missing)\n",
    "    # Tahminleri orijinal DataFrame'e yaz\n",
    "    df.loc[df['Salary'].isnull(), 'Salary'] = predicted_salaries\n",
    "    print(\"\\nEksik Salary değerleri başarıyla tahmin edilip DataFrame'e yazıldı.\")\n",
    "else:\n",
    "    print(\"\\nEksik Salary değeri bulunmamaktadır.\")\n",
    "\n",
    "# Artık df'nin Salary sütununda eksik değer yok"
   ]
  },
  {
   "cell_type": "code",
   "execution_count": 185,
   "id": "5a654120-24d7-408d-ad4a-971afec167f2",
   "metadata": {},
   "outputs": [
    {
     "name": "stdout",
     "output_type": "stream",
     "text": [
      "<class 'pandas.core.frame.DataFrame'>\n",
      "RangeIndex: 322 entries, 0 to 321\n",
      "Data columns (total 20 columns):\n",
      " #   Column     Non-Null Count  Dtype  \n",
      "---  ------     --------------  -----  \n",
      " 0   AtBat      322 non-null    float64\n",
      " 1   Hits       322 non-null    float64\n",
      " 2   HmRun      322 non-null    float64\n",
      " 3   Runs       322 non-null    float64\n",
      " 4   RBI        322 non-null    float64\n",
      " 5   Walks      322 non-null    float64\n",
      " 6   Years      322 non-null    float64\n",
      " 7   CAtBat     322 non-null    float64\n",
      " 8   CHits      322 non-null    float64\n",
      " 9   CHmRun     322 non-null    float64\n",
      " 10  CRuns      322 non-null    float64\n",
      " 11  CRBI       322 non-null    float64\n",
      " 12  CWalks     322 non-null    float64\n",
      " 13  League     322 non-null    object \n",
      " 14  Division   322 non-null    object \n",
      " 15  PutOuts    322 non-null    float64\n",
      " 16  Assists    322 non-null    float64\n",
      " 17  Errors     322 non-null    float64\n",
      " 18  Salary     322 non-null    float64\n",
      " 19  NewLeague  322 non-null    object \n",
      "dtypes: float64(17), object(3)\n",
      "memory usage: 50.4+ KB\n"
     ]
    }
   ],
   "source": [
    "df.info()"
   ]
  },
  {
   "cell_type": "code",
   "execution_count": 186,
   "id": "9e3b64f3-505f-40f1-94fd-e122e9e4ed4f",
   "metadata": {},
   "outputs": [],
   "source": [
    "# DataFrame'i CSV dosyasına kaydet\n",
    "df.to_csv('cleaned_hitters.csv', index=False)"
   ]
  },
  {
   "cell_type": "code",
   "execution_count": null,
   "id": "7c9b2885-8561-4292-81f4-7bde84c2712f",
   "metadata": {},
   "outputs": [],
   "source": []
  }
 ],
 "metadata": {
  "kernelspec": {
   "display_name": "Python 3 (ipykernel)",
   "language": "python",
   "name": "python3"
  },
  "language_info": {
   "codemirror_mode": {
    "name": "ipython",
    "version": 3
   },
   "file_extension": ".py",
   "mimetype": "text/x-python",
   "name": "python",
   "nbconvert_exporter": "python",
   "pygments_lexer": "ipython3",
   "version": "3.12.7"
  }
 },
 "nbformat": 4,
 "nbformat_minor": 5
}
